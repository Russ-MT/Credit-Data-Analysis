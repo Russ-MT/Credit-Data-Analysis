{
  "cells": [
    {
      "cell_type": "markdown",
      "id": "2be0da24-1bff-4f11-9a91-5d2f93ba85cb",
      "metadata": {
        "id": "2be0da24-1bff-4f11-9a91-5d2f93ba85cb"
      },
      "source": [
        "# Credit Data Analysis\n",
        "\n",
        "**The analysis includes:**\n",
        "\n",
        "**Coefficients of Independent Variables**: Identifying which variables most strongly influence credit risk.<br>\n",
        "**Income & Beta Value Comparison**: Comparing credit risk coefficients across different regions and understanding how income levels interact with credit balances.<br>\n",
        "**Interaction Effects**: Examining how the interaction between various credit balance determinants influences the credit risk.<br>\n",
        "**Risk Score Calculation**: Creating a new column in the dataset that calculates a risk score, and categorizing these into risk levels for better risk assessment.<br>\n",
        "\n",
        "The findings offer a foundation for further research into credit risk analysis, providing valuable insights into how different factors contribute to credit behavior."
      ]
    },
    {
      "cell_type": "code",
      "execution_count": null,
      "id": "800ec2d3-f66a-4183-ac3e-6c8bd8c3b78a",
      "metadata": {
        "id": "800ec2d3-f66a-4183-ac3e-6c8bd8c3b78a"
      },
      "outputs": [],
      "source": [
        "import pandas as pd\n",
        "import numpy as np\n",
        "import matplotlib.pyplot as plt\n",
        "import seaborn as sns\n",
        "\n",
        "from sklearn.linear_model import LinearRegression\n",
        "from sklearn.model_selection import train_test_split\n",
        "from sklearn.metrics import mean_squared_error, mean_absolute_error, r2_score\n",
        "from sklearn.preprocessing import MinMaxScaler"
      ]
    },
    {
      "cell_type": "code",
      "execution_count": null,
      "id": "db685794-a4dd-4973-9b26-ece593aa1a38",
      "metadata": {
        "id": "db685794-a4dd-4973-9b26-ece593aa1a38",
        "outputId": "bbcfd6be-a5c6-4b72-871b-02764aab203e"
      },
      "outputs": [
        {
          "data": {
            "text/html": [
              "<div>\n",
              "<style scoped>\n",
              "    .dataframe tbody tr th:only-of-type {\n",
              "        vertical-align: middle;\n",
              "    }\n",
              "\n",
              "    .dataframe tbody tr th {\n",
              "        vertical-align: top;\n",
              "    }\n",
              "\n",
              "    .dataframe thead th {\n",
              "        text-align: right;\n",
              "    }\n",
              "</style>\n",
              "<table border=\"1\" class=\"dataframe\">\n",
              "  <thead>\n",
              "    <tr style=\"text-align: right;\">\n",
              "      <th></th>\n",
              "      <th>Income</th>\n",
              "      <th>Limit</th>\n",
              "      <th>Rating</th>\n",
              "      <th>Cards</th>\n",
              "      <th>Age</th>\n",
              "      <th>Education</th>\n",
              "      <th>Student</th>\n",
              "      <th>Married</th>\n",
              "      <th>Region</th>\n",
              "      <th>Balance</th>\n",
              "    </tr>\n",
              "  </thead>\n",
              "  <tbody>\n",
              "    <tr>\n",
              "      <th>0</th>\n",
              "      <td>14.891</td>\n",
              "      <td>3606</td>\n",
              "      <td>283</td>\n",
              "      <td>2</td>\n",
              "      <td>34</td>\n",
              "      <td>11</td>\n",
              "      <td>No</td>\n",
              "      <td>Yes</td>\n",
              "      <td>South</td>\n",
              "      <td>333</td>\n",
              "    </tr>\n",
              "    <tr>\n",
              "      <th>1</th>\n",
              "      <td>106.025</td>\n",
              "      <td>6645</td>\n",
              "      <td>483</td>\n",
              "      <td>3</td>\n",
              "      <td>82</td>\n",
              "      <td>15</td>\n",
              "      <td>Yes</td>\n",
              "      <td>Yes</td>\n",
              "      <td>West</td>\n",
              "      <td>903</td>\n",
              "    </tr>\n",
              "    <tr>\n",
              "      <th>2</th>\n",
              "      <td>104.593</td>\n",
              "      <td>7075</td>\n",
              "      <td>514</td>\n",
              "      <td>4</td>\n",
              "      <td>71</td>\n",
              "      <td>11</td>\n",
              "      <td>No</td>\n",
              "      <td>No</td>\n",
              "      <td>West</td>\n",
              "      <td>580</td>\n",
              "    </tr>\n",
              "    <tr>\n",
              "      <th>3</th>\n",
              "      <td>148.924</td>\n",
              "      <td>9504</td>\n",
              "      <td>681</td>\n",
              "      <td>3</td>\n",
              "      <td>36</td>\n",
              "      <td>11</td>\n",
              "      <td>No</td>\n",
              "      <td>No</td>\n",
              "      <td>West</td>\n",
              "      <td>964</td>\n",
              "    </tr>\n",
              "    <tr>\n",
              "      <th>4</th>\n",
              "      <td>55.882</td>\n",
              "      <td>4897</td>\n",
              "      <td>357</td>\n",
              "      <td>2</td>\n",
              "      <td>68</td>\n",
              "      <td>16</td>\n",
              "      <td>No</td>\n",
              "      <td>Yes</td>\n",
              "      <td>South</td>\n",
              "      <td>331</td>\n",
              "    </tr>\n",
              "  </tbody>\n",
              "</table>\n",
              "</div>"
            ],
            "text/plain": [
              "    Income  Limit  Rating  Cards  Age  Education Student Married Region  \\\n",
              "0   14.891   3606     283      2   34         11      No     Yes  South   \n",
              "1  106.025   6645     483      3   82         15     Yes     Yes   West   \n",
              "2  104.593   7075     514      4   71         11      No      No   West   \n",
              "3  148.924   9504     681      3   36         11      No      No   West   \n",
              "4   55.882   4897     357      2   68         16      No     Yes  South   \n",
              "\n",
              "   Balance  \n",
              "0      333  \n",
              "1      903  \n",
              "2      580  \n",
              "3      964  \n",
              "4      331  "
            ]
          },
          "execution_count": 3,
          "metadata": {},
          "output_type": "execute_result"
        }
      ],
      "source": [
        "df = pd.read_csv('./ALL CSV FILES - 2nd Edition/Credit.csv')\n",
        "# There is no specific meaning to that column\n",
        "df = df.drop('Own', axis=1)\n",
        "df.head()"
      ]
    },
    {
      "cell_type": "markdown",
      "id": "df28ce72-dc3f-446c-af73-3866df94b7ef",
      "metadata": {
        "id": "df28ce72-dc3f-446c-af73-3866df94b7ef"
      },
      "source": [
        "That's the preview of dataframe and since it got qualatative variables we need to do some one-hot coding to the dataframe."
      ]
    },
    {
      "cell_type": "code",
      "execution_count": null,
      "id": "4cefbdd5-2d22-4543-a8b5-2dd6503e1053",
      "metadata": {
        "id": "4cefbdd5-2d22-4543-a8b5-2dd6503e1053"
      },
      "outputs": [],
      "source": [
        "# Seperate predictors and output\n",
        "\n",
        "X = df.drop('Balance',axis=1)\n",
        "y = df['Balance']\n",
        "\n",
        "X_train, X_test, y_train, y_test = train_test_split(X,y, test_size=0.2, random_state=42)"
      ]
    },
    {
      "cell_type": "markdown",
      "id": "fdf0d8ff-dc66-4270-a637-56b37bc8ed83",
      "metadata": {
        "id": "fdf0d8ff-dc66-4270-a637-56b37bc8ed83"
      },
      "source": [
        "Seperated the data into 2 categories for train model and test model."
      ]
    },
    {
      "cell_type": "code",
      "execution_count": null,
      "id": "a60ba471-b466-4b72-b928-351831ccfda6",
      "metadata": {
        "id": "a60ba471-b466-4b72-b928-351831ccfda6",
        "outputId": "87ee64cb-0098-4bb5-ec65-f0635b517870"
      },
      "outputs": [
        {
          "data": {
            "text/plain": [
              "Income       float64\n",
              "Limit          int64\n",
              "Rating         int64\n",
              "Cards          int64\n",
              "Age            int64\n",
              "Education      int64\n",
              "dtype: object"
            ]
          },
          "execution_count": 10,
          "metadata": {},
          "output_type": "execute_result"
        }
      ],
      "source": [
        "# Separate quantitative data (numerical columns)\n",
        "num_features = df.select_dtypes(include=['number'])\n",
        "num_features = num_features.drop('Balance', axis=1)\n",
        "\n",
        "num_features.dtypes"
      ]
    },
    {
      "cell_type": "markdown",
      "id": "7a2e8496-02f5-4689-83b2-1319e818c444",
      "metadata": {
        "id": "7a2e8496-02f5-4689-83b2-1319e818c444"
      },
      "source": [
        "## One-hot encoding to the qualtative data"
      ]
    },
    {
      "cell_type": "code",
      "execution_count": null,
      "id": "a154e478-0777-4647-b6c3-86e08033bb75",
      "metadata": {
        "id": "a154e478-0777-4647-b6c3-86e08033bb75",
        "outputId": "1482e2be-2dc8-4818-c8b2-031b862cd692"
      },
      "outputs": [
        {
          "data": {
            "text/html": [
              "<div>\n",
              "<style scoped>\n",
              "    .dataframe tbody tr th:only-of-type {\n",
              "        vertical-align: middle;\n",
              "    }\n",
              "\n",
              "    .dataframe tbody tr th {\n",
              "        vertical-align: top;\n",
              "    }\n",
              "\n",
              "    .dataframe thead th {\n",
              "        text-align: right;\n",
              "    }\n",
              "</style>\n",
              "<table border=\"1\" class=\"dataframe\">\n",
              "  <thead>\n",
              "    <tr style=\"text-align: right;\">\n",
              "      <th></th>\n",
              "      <th>Income</th>\n",
              "      <th>Limit</th>\n",
              "      <th>Rating</th>\n",
              "      <th>Cards</th>\n",
              "      <th>Age</th>\n",
              "      <th>Education</th>\n",
              "      <th>Student_No</th>\n",
              "      <th>Student_Yes</th>\n",
              "      <th>Married_No</th>\n",
              "      <th>Married_Yes</th>\n",
              "      <th>Region_East</th>\n",
              "      <th>Region_South</th>\n",
              "      <th>Region_West</th>\n",
              "    </tr>\n",
              "  </thead>\n",
              "  <tbody>\n",
              "    <tr>\n",
              "      <th>3</th>\n",
              "      <td>148.924</td>\n",
              "      <td>9504</td>\n",
              "      <td>681</td>\n",
              "      <td>3</td>\n",
              "      <td>36</td>\n",
              "      <td>11</td>\n",
              "      <td>True</td>\n",
              "      <td>False</td>\n",
              "      <td>True</td>\n",
              "      <td>False</td>\n",
              "      <td>False</td>\n",
              "      <td>False</td>\n",
              "      <td>True</td>\n",
              "    </tr>\n",
              "    <tr>\n",
              "      <th>18</th>\n",
              "      <td>49.570</td>\n",
              "      <td>6384</td>\n",
              "      <td>448</td>\n",
              "      <td>1</td>\n",
              "      <td>28</td>\n",
              "      <td>9</td>\n",
              "      <td>True</td>\n",
              "      <td>False</td>\n",
              "      <td>False</td>\n",
              "      <td>True</td>\n",
              "      <td>False</td>\n",
              "      <td>False</td>\n",
              "      <td>True</td>\n",
              "    </tr>\n",
              "    <tr>\n",
              "      <th>202</th>\n",
              "      <td>21.038</td>\n",
              "      <td>1448</td>\n",
              "      <td>145</td>\n",
              "      <td>2</td>\n",
              "      <td>58</td>\n",
              "      <td>13</td>\n",
              "      <td>True</td>\n",
              "      <td>False</td>\n",
              "      <td>False</td>\n",
              "      <td>True</td>\n",
              "      <td>False</td>\n",
              "      <td>True</td>\n",
              "      <td>False</td>\n",
              "    </tr>\n",
              "    <tr>\n",
              "      <th>250</th>\n",
              "      <td>10.363</td>\n",
              "      <td>2430</td>\n",
              "      <td>191</td>\n",
              "      <td>2</td>\n",
              "      <td>47</td>\n",
              "      <td>18</td>\n",
              "      <td>True</td>\n",
              "      <td>False</td>\n",
              "      <td>False</td>\n",
              "      <td>True</td>\n",
              "      <td>False</td>\n",
              "      <td>False</td>\n",
              "      <td>True</td>\n",
              "    </tr>\n",
              "    <tr>\n",
              "      <th>274</th>\n",
              "      <td>30.550</td>\n",
              "      <td>5869</td>\n",
              "      <td>439</td>\n",
              "      <td>5</td>\n",
              "      <td>81</td>\n",
              "      <td>9</td>\n",
              "      <td>True</td>\n",
              "      <td>False</td>\n",
              "      <td>True</td>\n",
              "      <td>False</td>\n",
              "      <td>True</td>\n",
              "      <td>False</td>\n",
              "      <td>False</td>\n",
              "    </tr>\n",
              "  </tbody>\n",
              "</table>\n",
              "</div>"
            ],
            "text/plain": [
              "      Income  Limit  Rating  Cards  Age  Education  Student_No  Student_Yes  \\\n",
              "3    148.924   9504     681      3   36         11        True        False   \n",
              "18    49.570   6384     448      1   28          9        True        False   \n",
              "202   21.038   1448     145      2   58         13        True        False   \n",
              "250   10.363   2430     191      2   47         18        True        False   \n",
              "274   30.550   5869     439      5   81          9        True        False   \n",
              "\n",
              "     Married_No  Married_Yes  Region_East  Region_South  Region_West  \n",
              "3          True        False        False         False         True  \n",
              "18        False         True        False         False         True  \n",
              "202       False         True        False          True        False  \n",
              "250       False         True        False         False         True  \n",
              "274        True        False         True         False        False  "
            ]
          },
          "execution_count": 12,
          "metadata": {},
          "output_type": "execute_result"
        }
      ],
      "source": [
        "#getting dummie var as one-hot encoding\n",
        "\n",
        "X_train_dum = pd.get_dummies(X_train)\n",
        "X_test_dum = pd.get_dummies(X_test)\n",
        "\n",
        "X_train_dum.head()"
      ]
    },
    {
      "cell_type": "code",
      "execution_count": null,
      "id": "a97d7785-a705-401d-9244-7766baeb7f27",
      "metadata": {
        "id": "a97d7785-a705-401d-9244-7766baeb7f27",
        "outputId": "b361c214-2480-4979-e8cf-b00a2fd8fd7a"
      },
      "outputs": [
        {
          "name": "stdout",
          "output_type": "stream",
          "text": [
            "Train R2: 0.9550516628177907\n",
            "Test R2: 0.9522817944465947\n"
          ]
        }
      ],
      "source": [
        "model_2 = LinearRegression().fit(X_train_dum,y_train)\n",
        "\n",
        "train_score_m2 = model_2.score(X_train_dum, y_train)\n",
        "test_score_m2 = model_2.score(X_test_dum, y_test)\n",
        "\n",
        "#R^2 score for model 2\n",
        "print('Train R2:', train_score_m2)\n",
        "print('Test R2:', test_score_m2)"
      ]
    },
    {
      "cell_type": "markdown",
      "id": "787d0fd9-5d05-463f-b2d6-50ec42606f37",
      "metadata": {
        "id": "787d0fd9-5d05-463f-b2d6-50ec42606f37"
      },
      "source": [
        "*As we can see, the **R-squared** value for the test score improved from **0.82** to **0.95**. This improvement is because we incorporated both quantitative and qualitative data into training the model.*"
      ]
    },
    {
      "cell_type": "markdown",
      "id": "f0c0d935-b765-4b00-b7b9-1a19f25a08aa",
      "metadata": {
        "id": "f0c0d935-b765-4b00-b7b9-1a19f25a08aa"
      },
      "source": [
        "## Coefficients of independent variables and dependent variables"
      ]
    },
    {
      "cell_type": "code",
      "execution_count": null,
      "id": "0d467737-bc81-42db-8d21-618731efc32e",
      "metadata": {
        "id": "0d467737-bc81-42db-8d21-618731efc32e",
        "outputId": "b7126069-ac41-46a3-ab71-47b4e8638674"
      },
      "outputs": [
        {
          "data": {
            "text/html": [
              "<div>\n",
              "<style scoped>\n",
              "    .dataframe tbody tr th:only-of-type {\n",
              "        vertical-align: middle;\n",
              "    }\n",
              "\n",
              "    .dataframe tbody tr th {\n",
              "        vertical-align: top;\n",
              "    }\n",
              "\n",
              "    .dataframe thead th {\n",
              "        text-align: right;\n",
              "    }\n",
              "</style>\n",
              "<table border=\"1\" class=\"dataframe\">\n",
              "  <thead>\n",
              "    <tr style=\"text-align: right;\">\n",
              "      <th></th>\n",
              "      <th>Beta Value</th>\n",
              "    </tr>\n",
              "  </thead>\n",
              "  <tbody>\n",
              "    <tr>\n",
              "      <th>Income</th>\n",
              "      <td>-7.528121</td>\n",
              "    </tr>\n",
              "    <tr>\n",
              "      <th>Limit</th>\n",
              "      <td>0.198293</td>\n",
              "    </tr>\n",
              "    <tr>\n",
              "      <th>Rating</th>\n",
              "      <td>0.964316</td>\n",
              "    </tr>\n",
              "    <tr>\n",
              "      <th>Cards</th>\n",
              "      <td>19.207483</td>\n",
              "    </tr>\n",
              "    <tr>\n",
              "      <th>Age</th>\n",
              "      <td>-0.606515</td>\n",
              "    </tr>\n",
              "    <tr>\n",
              "      <th>Education</th>\n",
              "      <td>-1.000247</td>\n",
              "    </tr>\n",
              "    <tr>\n",
              "      <th>Student_No</th>\n",
              "      <td>-208.752599</td>\n",
              "    </tr>\n",
              "    <tr>\n",
              "      <th>Student_Yes</th>\n",
              "      <td>208.752599</td>\n",
              "    </tr>\n",
              "    <tr>\n",
              "      <th>Married_No</th>\n",
              "      <td>3.015332</td>\n",
              "    </tr>\n",
              "    <tr>\n",
              "      <th>Married_Yes</th>\n",
              "      <td>-3.015332</td>\n",
              "    </tr>\n",
              "    <tr>\n",
              "      <th>Region_East</th>\n",
              "      <td>-8.424005</td>\n",
              "    </tr>\n",
              "    <tr>\n",
              "      <th>Region_South</th>\n",
              "      <td>3.216212</td>\n",
              "    </tr>\n",
              "    <tr>\n",
              "      <th>Region_West</th>\n",
              "      <td>5.207793</td>\n",
              "    </tr>\n",
              "  </tbody>\n",
              "</table>\n",
              "</div>"
            ],
            "text/plain": [
              "              Beta Value\n",
              "Income         -7.528121\n",
              "Limit           0.198293\n",
              "Rating          0.964316\n",
              "Cards          19.207483\n",
              "Age            -0.606515\n",
              "Education      -1.000247\n",
              "Student_No   -208.752599\n",
              "Student_Yes   208.752599\n",
              "Married_No      3.015332\n",
              "Married_Yes    -3.015332\n",
              "Region_East    -8.424005\n",
              "Region_South    3.216212\n",
              "Region_West     5.207793"
            ]
          },
          "execution_count": 18,
          "metadata": {},
          "output_type": "execute_result"
        }
      ],
      "source": [
        "coefs = pd.DataFrame(model_2.coef_, index=X_train_dum.columns, columns=['Beta Value'])\n",
        "\n",
        "coefs"
      ]
    },
    {
      "cell_type": "code",
      "execution_count": null,
      "id": "ed2db122-fef9-4cd2-87e9-02fa37065259",
      "metadata": {
        "id": "ed2db122-fef9-4cd2-87e9-02fa37065259",
        "outputId": "032a5f96-ae9a-419e-d1f2-241d01fa5b67"
      },
      "outputs": [
        {
          "data": {
            "image/png": "[encoded data removed]",
            "text/plain": [
              "<Figure size 640x480 with 1 Axes>"
            ]
          },
          "metadata": {},
          "output_type": "display_data"
        }
      ],
      "source": [
        "sns.barplot(data=coefs.T, orient='h').set(title='Correlation Between Credit Balance and Socioeconomic and Demographic Factors');"
      ]
    },
    {
      "cell_type": "markdown",
      "id": "e4601a06-3b41-49f3-88dc-825475b4cc4b",
      "metadata": {
        "id": "e4601a06-3b41-49f3-88dc-825475b4cc4b"
      },
      "source": [
        "**Positive coefficients**: The feature increases the credit balance. Limit, Rating, Cards, Own_No, Student_Yes, Married_No, Region_South, Region_West: Increase the credit balance.<br>\n",
        "**Negative coefficients**: The feature decreases the credit balance. Income, Age, Education, Own_Yes, Student_No, Married_Yes, Region_East: Decrease the credit balance."
      ]
    },
    {
      "cell_type": "markdown",
      "id": "e8c786a2-dfdd-496e-90c2-0487d1538655",
      "metadata": {
        "id": "e8c786a2-dfdd-496e-90c2-0487d1538655"
      },
      "source": [
        "## Income & Beta Value Comparison Between Regions"
      ]
    },
    {
      "cell_type": "code",
      "execution_count": null,
      "id": "f1b8c198-1ecf-4c26-8141-52edb7ada36d",
      "metadata": {
        "id": "f1b8c198-1ecf-4c26-8141-52edb7ada36d",
        "outputId": "91e68f43-5721-4d6f-decc-52147da856cb"
      },
      "outputs": [
        {
          "data": {
            "image/png": "[encoded data removed]",
            "text/plain": [
              "<Figure size 640x480 with 2 Axes>"
            ]
          },
          "metadata": {},
          "output_type": "display_data"
        }
      ],
      "source": [
        "# Create a figure and twin axes\n",
        "fig, ax1 = plt.subplots()\n",
        "\n",
        "# Bar plot on primary y-axis\n",
        "ax1.bar(df['Region'], df['Income'], label='Income')\n",
        "ax1.set_xlabel('Regions')\n",
        "ax1.set_ylabel('Income', color='blue')\n",
        "\n",
        "\n",
        "# Create a secondary y-axis for the coefficients\n",
        "ax2 = ax1.twinx()\n",
        "ax2.plot(regions, coefs.loc[['Region_East', 'Region_West', 'Region_South']], color='red', marker='o', label='Beta Value')\n",
        "ax2.set_ylabel('Beta Value', color='red')\n",
        "ax2.tick_params(axis='y')\n",
        "\n",
        "# Title and legend\n",
        "fig.suptitle('Income and Beta Value Comparison Between Regions')\n",
        "# Add a single legend outside the subplots\n",
        "\n",
        "fig.legend(handles, labels, loc='lower center', bbox_to_anchor=(0.5, -0.1), ncol=2)\n",
        "\n",
        "\n",
        "# Show the plot\n",
        "plt.show()"
      ]
    },
    {
      "cell_type": "markdown",
      "id": "fa8fec81-f7e9-49a3-a909-5128cef00fec",
      "metadata": {
        "id": "fa8fec81-f7e9-49a3-a909-5128cef00fec"
      },
      "source": [
        "*As income gain, credit balance decline and we can see that east region has greatest income of all 3 regions and it has the lowest credit value relation. Meanwhile West has the biggest credit value becasue it's income is the lowest of all 3.*"
      ]
    },
    {
      "cell_type": "markdown",
      "id": "f968eea2-ff57-40ad-a6ac-8de82c95125a",
      "metadata": {
        "id": "f968eea2-ff57-40ad-a6ac-8de82c95125a"
      },
      "source": [
        "## Interaction effect analysis: Credit Balance Determinants"
      ]
    },
    {
      "cell_type": "code",
      "execution_count": null,
      "id": "432815f5-c53d-4724-9e17-54f6bb18d390",
      "metadata": {
        "id": "432815f5-c53d-4724-9e17-54f6bb18d390",
        "outputId": "b3e56dee-348d-4125-d562-637361b8a307"
      },
      "outputs": [
        {
          "data": {
            "text/html": [
              "<div>\n",
              "<style scoped>\n",
              "    .dataframe tbody tr th:only-of-type {\n",
              "        vertical-align: middle;\n",
              "    }\n",
              "\n",
              "    .dataframe tbody tr th {\n",
              "        vertical-align: top;\n",
              "    }\n",
              "\n",
              "    .dataframe thead th {\n",
              "        text-align: right;\n",
              "    }\n",
              "</style>\n",
              "<table border=\"1\" class=\"dataframe\">\n",
              "  <thead>\n",
              "    <tr style=\"text-align: right;\">\n",
              "      <th></th>\n",
              "      <th>Beta Value</th>\n",
              "    </tr>\n",
              "  </thead>\n",
              "  <tbody>\n",
              "    <tr>\n",
              "      <th>Intercept</th>\n",
              "      <td>177.658909</td>\n",
              "    </tr>\n",
              "    <tr>\n",
              "      <th>Income</th>\n",
              "      <td>6.773090</td>\n",
              "    </tr>\n",
              "    <tr>\n",
              "      <th>Student_Yes</th>\n",
              "      <td>371.895694</td>\n",
              "    </tr>\n",
              "  </tbody>\n",
              "</table>\n",
              "</div>"
            ],
            "text/plain": [
              "             Beta Value\n",
              "Intercept    177.658909\n",
              "Income         6.773090\n",
              "Student_Yes  371.895694"
            ]
          },
          "execution_count": 117,
          "metadata": {},
          "output_type": "execute_result"
        }
      ],
      "source": [
        "income_stud_y = ['Income', 'Student_Yes']\n",
        "model_3 = LinearRegression().fit(X_train_dum[income_stud_y], y_train)\n",
        "\n",
        "beta_0 = model_3.intercept_\n",
        "beta_1 = model_3.coef_[income_stud_y.index('Income')]\n",
        "beta_2 = model_3.coef_[income_stud_y.index('Student_Yes')]\n",
        "\n",
        "sub_coefs = pd.DataFrame([beta_0,beta_1,beta_2], index=['Intercept']+income_stud_y, columns=['Beta Value'])\n",
        "\n",
        "sub_coefs"
      ]
    },
    {
      "cell_type": "code",
      "execution_count": null,
      "id": "2b3de2ab-e94a-4eae-af86-d51723e75440",
      "metadata": {
        "id": "2b3de2ab-e94a-4eae-af86-d51723e75440",
        "outputId": "4d579303-707c-4eaf-e421-d6cf79ae35d9"
      },
      "outputs": [
        {
          "data": {
            "image/png": "[encoded data removed]",
            "text/plain": [
              "<Figure size 640x480 with 1 Axes>"
            ]
          },
          "metadata": {},
          "output_type": "display_data"
        }
      ],
      "source": [
        "# Visualize crude measure of feature importance.\n",
        "sns.barplot(data=sub_coefs.T, orient='h').set(title='Credit Balance Determinants');"
      ]
    },
    {
      "cell_type": "markdown",
      "id": "b892f6dc-65d8-4e76-b9d9-df2da9b8c9fa",
      "metadata": {
        "id": "b892f6dc-65d8-4e76-b9d9-df2da9b8c9fa"
      },
      "source": [
        "**Baseline (Intercept)**: The default Credit Balance is 177.66 units for non-students with zero income.<br>\n",
        "**Income Effect**: Each unit increase in Income raises Credit Balance by 6.77 units.<br>\n",
        "**Student Effect**: Students have a significantly higher Credit Balance (371.90 units more) than non-students, regardless of income.<br>\n",
        "**Insights: Higher income correlates with higher Credit Balances, and students show notably greater reliance on credit compared to non-students.**"
      ]
    },
    {
      "cell_type": "markdown",
      "id": "e34e46da-29b9-402f-8b88-88b313ad9d31",
      "metadata": {
        "id": "e34e46da-29b9-402f-8b88-88b313ad9d31"
      },
      "source": [
        "## Credit Risk Analysis\n",
        "\n",
        "In this analysis, we will examine the high-risk and low-risk groups based on credit predictors. To achieve this, we will define specific risk criteria (e.g., Income: Lower income may indicate higher risk; Limit: Lower credit limits might correlate with higher risk). Using these criteria, a risk score will be calculated for each observation. Finally, the risk scores will be categorized into predefined risk levels to identify and classify the groups.\n",
        "\n",
        "*p.s : We will only focus on quantative data for credit risk analysis*"
      ]
    },
    {
      "cell_type": "code",
      "execution_count": null,
      "id": "2bbd74a4-cf7a-4f0f-a31c-1808968a071a",
      "metadata": {
        "id": "2bbd74a4-cf7a-4f0f-a31c-1808968a071a",
        "outputId": "7293ef3e-dae8-43ab-c6dd-45dbac68dc99"
      },
      "outputs": [
        {
          "name": "stdout",
          "output_type": "stream",
          "text": [
            "     Risk_Score Risk_Level\n",
            "0      0.054870       High\n",
            "1      0.224744        Low\n",
            "2      0.232682        Low\n",
            "3      0.338112        Low\n",
            "4      0.123828     Medium\n",
            "..          ...        ...\n",
            "395    0.071146       High\n",
            "396    0.089938     Medium\n",
            "397    0.151020        Low\n",
            "398    0.067083       High\n",
            "399    0.080688     Medium\n",
            "\n",
            "[400 rows x 2 columns]\n"
          ]
        }
      ],
      "source": [
        "# Normalize numerical columns\n",
        "scaler = MinMaxScaler()\n",
        "df[['Income', 'Limit', 'Rating', 'Cards', 'Age', 'Education']] = scaler.fit_transform(\n",
        "    df[['Income', 'Limit', 'Rating', 'Cards', 'Age', 'Education']]\n",
        ")\n",
        "\n",
        "# Compute a risk score (Weights are set manually)\n",
        "df['Risk_Score'] = (\n",
        "    0.3 * df['Income'] +\n",
        "    0.3 * df['Rating'] -\n",
        "    0.2 * df['Limit'] +\n",
        "    0.1 * df['Cards'] -\n",
        "    0.05 * df['Age'] +\n",
        "    0.05 * df['Education']\n",
        ")\n",
        "\n",
        "# Classify risk\n",
        "df['Risk_Level'] = pd.qcut(df['Risk_Score'], q=3, labels=['High', 'Medium', 'Low'])\n",
        "\n",
        "\n",
        "print(df[['Risk_Score', 'Risk_Level']])"
      ]
    },
    {
      "cell_type": "code",
      "execution_count": null,
      "id": "a1103afe-150f-4d0c-8a0f-75a018c0c497",
      "metadata": {
        "id": "a1103afe-150f-4d0c-8a0f-75a018c0c497",
        "outputId": "ee5f59ff-8fb8-4855-998e-299bbbd053f5"
      },
      "outputs": [
        {
          "data": {
            "text/html": [
              "<div>\n",
              "<style scoped>\n",
              "    .dataframe tbody tr th:only-of-type {\n",
              "        vertical-align: middle;\n",
              "    }\n",
              "\n",
              "    .dataframe tbody tr th {\n",
              "        vertical-align: top;\n",
              "    }\n",
              "\n",
              "    .dataframe thead th {\n",
              "        text-align: right;\n",
              "    }\n",
              "</style>\n",
              "<table border=\"1\" class=\"dataframe\">\n",
              "  <thead>\n",
              "    <tr style=\"text-align: right;\">\n",
              "      <th></th>\n",
              "      <th>Income</th>\n",
              "      <th>Risk_Score</th>\n",
              "    </tr>\n",
              "  </thead>\n",
              "  <tbody>\n",
              "    <tr>\n",
              "      <th>0</th>\n",
              "      <td>0.025737</td>\n",
              "      <td>0.054870</td>\n",
              "    </tr>\n",
              "    <tr>\n",
              "      <th>1</th>\n",
              "      <td>0.542722</td>\n",
              "      <td>0.224744</td>\n",
              "    </tr>\n",
              "    <tr>\n",
              "      <th>2</th>\n",
              "      <td>0.534598</td>\n",
              "      <td>0.232682</td>\n",
              "    </tr>\n",
              "    <tr>\n",
              "      <th>3</th>\n",
              "      <td>0.786079</td>\n",
              "      <td>0.338112</td>\n",
              "    </tr>\n",
              "    <tr>\n",
              "      <th>4</th>\n",
              "      <td>0.258271</td>\n",
              "      <td>0.123828</td>\n",
              "    </tr>\n",
              "    <tr>\n",
              "      <th>...</th>\n",
              "      <td>...</td>\n",
              "      <td>...</td>\n",
              "    </tr>\n",
              "    <tr>\n",
              "      <th>395</th>\n",
              "      <td>0.009882</td>\n",
              "      <td>0.071146</td>\n",
              "    </tr>\n",
              "    <tr>\n",
              "      <th>396</th>\n",
              "      <td>0.017075</td>\n",
              "      <td>0.089938</td>\n",
              "    </tr>\n",
              "    <tr>\n",
              "      <th>397</th>\n",
              "      <td>0.269560</td>\n",
              "      <td>0.151020</td>\n",
              "    </tr>\n",
              "    <tr>\n",
              "      <th>398</th>\n",
              "      <td>0.155287</td>\n",
              "      <td>0.067083</td>\n",
              "    </tr>\n",
              "    <tr>\n",
              "      <th>399</th>\n",
              "      <td>0.047351</td>\n",
              "      <td>0.080688</td>\n",
              "    </tr>\n",
              "  </tbody>\n",
              "</table>\n",
              "<p>400 rows × 2 columns</p>\n",
              "</div>"
            ],
            "text/plain": [
              "       Income  Risk_Score\n",
              "0    0.025737    0.054870\n",
              "1    0.542722    0.224744\n",
              "2    0.534598    0.232682\n",
              "3    0.786079    0.338112\n",
              "4    0.258271    0.123828\n",
              "..        ...         ...\n",
              "395  0.009882    0.071146\n",
              "396  0.017075    0.089938\n",
              "397  0.269560    0.151020\n",
              "398  0.155287    0.067083\n",
              "399  0.047351    0.080688\n",
              "\n",
              "[400 rows x 2 columns]"
            ]
          },
          "execution_count": 164,
          "metadata": {},
          "output_type": "execute_result"
        }
      ],
      "source": [
        "inc_risksc = df[['Income','Risk_Score']]\n",
        "\n",
        "inc_risksc"
      ]
    },
    {
      "cell_type": "code",
      "execution_count": null,
      "id": "587927f5-2bc0-4daf-870d-699f69c9a720",
      "metadata": {
        "id": "587927f5-2bc0-4daf-870d-699f69c9a720",
        "outputId": "048c4c82-45e8-441d-d585-0d76edf3af67"
      },
      "outputs": [
        {
          "data": {
            "image/png": "[encoded data removed]",
            "text/plain": [
              "<Figure size 800x600 with 2 Axes>"
            ]
          },
          "metadata": {},
          "output_type": "display_data"
        }
      ],
      "source": [
        "# Plot a hexbin plot\n",
        "plt.figure(figsize=(8, 6))\n",
        "plt.hexbin(df['Income'], df['Risk_Score'], gridsize=30)\n",
        "\n",
        "# Add color bar to show the density of points\n",
        "plt.colorbar(label='Density')\n",
        "\n",
        "# Add titles and labels\n",
        "plt.title('Distribution of Risk Score vs. Income')\n",
        "plt.xlabel('Income')\n",
        "plt.ylabel('Risk Score')\n",
        "\n",
        "# Show the plot\n",
        "plt.show()"
      ]
    },
    {
      "cell_type": "code",
      "execution_count": null,
      "id": "f470ea09-71a8-4f53-a27f-4a04ed1c23d3",
      "metadata": {
        "id": "f470ea09-71a8-4f53-a27f-4a04ed1c23d3",
        "outputId": "1110256e-d116-4495-b6d1-5d497b93cde3"
      },
      "outputs": [
        {
          "name": "stdout",
          "output_type": "stream",
          "text": [
            "Correlation between Income and Risk Score: 0.9360881201308509\n"
          ]
        }
      ],
      "source": [
        "# Calculate the correlation coefficient between Income and Risk_Score\n",
        "correlation = df['Income'].corr(df['Risk_Score'])\n",
        "print(f\"Correlation between Income and Risk Score: {correlation}\")"
      ]
    },
    {
      "cell_type": "markdown",
      "id": "d2b41d0f-a339-42d2-a089-2ee5894ce732",
      "metadata": {
        "id": "d2b41d0f-a339-42d2-a089-2ee5894ce732"
      },
      "source": [
        "*A correlation of 0.9 between Income and Risk_Score indicates a strong positive correlation. This means that as Income increases, Risk_Score also tends to increase (or vice versa).*"
      ]
    },
    {
      "cell_type": "markdown",
      "id": "f183ce17-f47f-4678-908b-7a70645a7161",
      "metadata": {
        "id": "f183ce17-f47f-4678-908b-7a70645a7161"
      },
      "source": [
        "## Conclusion\n",
        "\n",
        "In this project, I performed an analysis focusing on the relationship between independent variables and the dependent variable. I examined the coefficients of independent variables and their impact on the dependent variable, specifically analyzing income and the beta value comparison between different regions. Additionally, explored the interaction effect between various credit balance determinants and credit risk. The findings revealed that the independent variables with the largest coefficients had the most significant impact on the dependent variable, highlighting the strong relationships between credit coefficients and regional income levels.And also observed an interesting interaction between income and student-related factors, further enhancing our understanding of credit dynamics. Lastly, I created new columns in the dataset to calculate risk scores and categorize risk levels, allowing for a more detailed assessment of credit risk.\n",
        "\n",
        "This analysis provides valuable insights into credit risk, offering a foundation for further investigations into how various factors influence credit behavior across different regions. Future work could focus on refining the model by incorporating additional variables or exploring non-linear relationships to improve predictive accuracy."
      ]
    },
    {
      "cell_type": "code",
      "execution_count": null,
      "id": "560dd9da-adbe-4e89-9e4c-862a5442bdd8",
      "metadata": {
        "id": "560dd9da-adbe-4e89-9e4c-862a5442bdd8"
      },
      "outputs": [],
      "source": []
    }
  ],
  "metadata": {
    "kernelspec": {
      "display_name": "Python [conda env:base] *",
      "language": "python",
      "name": "conda-base-py"
    },
    "language_info": {
      "codemirror_mode": {
        "name": "ipython",
        "version": 3
      },
      "file_extension": ".py",
      "mimetype": "text/x-python",
      "name": "python",
      "nbconvert_exporter": "python",
      "pygments_lexer": "ipython3",
      "version": "3.12.7"
    },
    "colab": {
      "provenance": []
    }
  },
  "nbformat": 4,
  "nbformat_minor": 5
}